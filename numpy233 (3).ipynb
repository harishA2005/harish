{
 "cells": [
  {
   "cell_type": "code",
   "execution_count": 2,
   "id": "ec4b06fe",
   "metadata": {},
   "outputs": [
    {
     "name": "stdout",
     "output_type": "stream",
     "text": [
      "One dimensional array: [10 20 30 40 50]\n"
     ]
    }
   ],
   "source": [
    "import numpy as np\n",
    "a=np.array([10,20,30,40,50])\n",
    "print(\"One dimensional array:\",a)"
   ]
  },
  {
   "cell_type": "code",
   "execution_count": 3,
   "id": "ad4a8b29",
   "metadata": {},
   "outputs": [
    {
     "name": "stdout",
     "output_type": "stream",
     "text": [
      "Two dimensional array: [[ 10  20  30  40  50]\n",
      " [ 60  70  80  90 100]]\n"
     ]
    }
   ],
   "source": [
    "import numpy as np\n",
    "a=np.array([[10,20,30,40,50],[60,70,80,90,100]])\n",
    "print(\"Two dimensional array:\",a)"
   ]
  },
  {
   "cell_type": "code",
   "execution_count": 5,
   "id": "9e0cf671",
   "metadata": {},
   "outputs": [
    {
     "name": "stdout",
     "output_type": "stream",
     "text": [
      "\n",
      " Array with all zeros:\n",
      " [[0. 0. 0. 0. 0.]\n",
      " [0. 0. 0. 0. 0.]\n",
      " [0. 0. 0. 0. 0.]]\n"
     ]
    }
   ],
   "source": [
    "import numpy as np\n",
    "a=np.zeros((3,5))\n",
    "print(\"\\n Array with all zeros:\\n\",a)"
   ]
  },
  {
   "cell_type": "code",
   "execution_count": 6,
   "id": "3e200b40",
   "metadata": {},
   "outputs": [
    {
     "name": "stdout",
     "output_type": "stream",
     "text": [
      "\n",
      " Random value: [[0.87946757 0.63090292 0.82874805]\n",
      " [0.12252681 0.2624025  0.02962696]\n",
      " [0.7313993  0.87696721 0.11412588]]\n"
     ]
    }
   ],
   "source": [
    "import numpy as np\n",
    "d=np.random.random((3,3))\n",
    "print(\"\\n Random value:\",d)"
   ]
  },
  {
   "cell_type": "code",
   "execution_count": 7,
   "id": "729ca4f9",
   "metadata": {},
   "outputs": [
    {
     "name": "stdout",
     "output_type": "stream",
     "text": [
      "\n",
      " Range value :\n",
      " [0 1 2 3 4 5 6 7 8 9]\n"
     ]
    }
   ],
   "source": [
    "import numpy as np\n",
    "e=np.arange(0,10,1)\n",
    "print(\"\\n Range value :\\n\",e)"
   ]
  },
  {
   "cell_type": "code",
   "execution_count": 8,
   "id": "8d0436d3",
   "metadata": {},
   "outputs": [
    {
     "name": "stdout",
     "output_type": "stream",
     "text": [
      "\n",
      " Range value :\n",
      " [0 5]\n"
     ]
    }
   ],
   "source": [
    "import numpy as np\n",
    "e=np.arange(0,10,5)\n",
    "print(\"\\n Range value :\\n\",e)"
   ]
  },
  {
   "cell_type": "code",
   "execution_count": 1,
   "id": "ce412d1f",
   "metadata": {
    "scrolled": true
   },
   "outputs": [
    {
     "name": "stdout",
     "output_type": "stream",
     "text": [
      "\n",
      " Original array: [[1 2 3 4]\n",
      " [5 2 4 2]\n",
      " [1 2 0 1]]\n",
      "\n",
      " Reshaped array: [[1 2 3]\n",
      " [4 5 2]\n",
      " [4 2 1]\n",
      " [2 0 1]]\n",
      "converted array element:\n",
      " [[1. 2. 3. 4.]\n",
      " [5. 2. 4. 2.]\n",
      " [1. 2. 0. 1.]]\n",
      "converted array: float32\n",
      "\n",
      " size of array:\n",
      " 3\n"
     ]
    }
   ],
   "source": [
    "import numpy as np\n",
    "arr=np.array([[1,2,3,4],[5,2,4,2],[1,2,0,1]])\n",
    "newarr=arr.reshape((4,3))\n",
    "print(\"\\n Original array:\",arr)\n",
    "print(\"\\n Reshaped array:\",newarr)\n",
    "newtype=arr.astype('f')\n",
    "print(\"converted array element:\\n\",newtype)\n",
    "print(\"converted array:\" ,newtype.dtype)\n",
    "size=len(arr)\n",
    "print(\"\\n size of array:\\n\",size)"
   ]
  },
  {
   "cell_type": "code",
   "execution_count": 1,
   "id": "f2e04b80",
   "metadata": {},
   "outputs": [
    {
     "name": "stdout",
     "output_type": "stream",
     "text": [
      "\n",
      " Array with 5x3 with all zeros:\n",
      " [[0. 0. 0.]\n",
      " [0. 0. 0.]\n",
      " [0. 0. 0.]\n",
      " [0. 0. 0.]\n",
      " [0. 0. 0.]]\n"
     ]
    }
   ],
   "source": [
    "import numpy as np\n",
    "a=np.zeros((5,3))\n",
    "print(\"\\n Array with 5x3 with all zeros:\\n\",a)"
   ]
  },
  {
   "cell_type": "code",
   "execution_count": 3,
   "id": "c7eaf0fa-1c4c-4614-ae49-fde23e859fad",
   "metadata": {},
   "outputs": [
    {
     "name": "stdout",
     "output_type": "stream",
     "text": [
      "\n",
      " Array with 5x3 with all Random Numbers:\n",
      " [[0.56347699 0.00142372 0.34454864]\n",
      " [0.45750291 0.77197486 0.72972187]\n",
      " [0.41213894 0.61247472 0.24462655]\n",
      " [0.97781793 0.35785797 0.99369307]\n",
      " [0.8228994  0.77176082 0.41449275]]\n"
     ]
    }
   ],
   "source": [
    "import numpy as np\n",
    "a=np.random.random((5,3))\n",
    "print(\"\\n Array with 5x3 with all Random Numbers:\\n\",a)"
   ]
  },
  {
   "cell_type": "code",
   "execution_count": 12,
   "id": "9cc8d4d3-eded-40bb-a2d6-94060933e765",
   "metadata": {},
   "outputs": [
    {
     "name": "stdout",
     "output_type": "stream",
     "text": [
      "\n",
      " Original array: [[0.56347699 0.00142372 0.34454864]\n",
      " [0.45750291 0.77197486 0.72972187]\n",
      " [0.41213894 0.61247472 0.24462655]\n",
      " [0.97781793 0.35785797 0.99369307]\n",
      " [0.8228994  0.77176082 0.41449275]]\n",
      "\n",
      " Reshaped array: [[0.56347699 0.00142372 0.34454864 0.45750291 0.77197486]\n",
      " [0.72972187 0.41213894 0.61247472 0.24462655 0.97781793]\n",
      " [0.35785797 0.99369307 0.8228994  0.77176082 0.41449275]]\n"
     ]
    }
   ],
   "source": [
    "import numpy as np\n",
    "arr=np.array([[0.56347699, 0.00142372, 0.34454864],\n",
    "[0.45750291,0.77197486, 0.72972187],\n",
    "[0.41213894, 0.61247472, 0.24462655],\n",
    "[0.97781793, 0.35785797, 0.99369307],\n",
    "[0.8228994,  0.77176082, 0.41449275]])\n",
    "newarr=arr.reshape((3,5))\n",
    "print(\"\\n Original array:\",arr)\n",
    "print(\"\\n Reshaped array:\",newarr)"
   ]
  },
  {
   "cell_type": "code",
   "execution_count": null,
   "id": "c838aecb-a643-45e5-a2c2-45c73e138e3a",
   "metadata": {},
   "outputs": [],
   "source": []
  },
  {
   "cell_type": "code",
   "execution_count": 4,
   "id": "2f035afc-7db8-4603-b3ba-6dc87c6ca98f",
   "metadata": {},
   "outputs": [
    {
     "name": "stdout",
     "output_type": "stream",
     "text": [
      "\n",
      " Original array: [[1 2 3 4]\n",
      " [5 2 4 2]\n",
      " [1 2 0 1]]\n",
      "\n",
      " Reshaped array: [[1 2 3]\n",
      " [4 5 2]\n",
      " [4 2 1]\n",
      " [2 0 1]]\n",
      "\n",
      " No. of diminsions:  2\n"
     ]
    }
   ],
   "source": [
    "import numpy as np\n",
    "arr=np.array([[1,2,3,4],[5,2,4,2],[1,2,0,1]])\n",
    "newarr=arr.reshape((4,3))\n",
    "print(\"\\n Original array:\",arr)\n",
    "print(\"\\n Reshaped array:\",newarr)\n",
    "print(\"\\n No. of diminsions: \",arr.ndim)"
   ]
  },
  {
   "cell_type": "code",
   "execution_count": 11,
   "id": "4c77ab6a-b338-49c1-ab83-48ec2ac9723d",
   "metadata": {},
   "outputs": [
    {
     "name": "stdout",
     "output_type": "stream",
     "text": [
      "Flattened Array: \n",
      " [1 2 3 4 5 2 4 2 1 2 0 1]\n"
     ]
    }
   ],
   "source": [
    "flat=arr.flatten()\n",
    "print(\"Flattened Array: \\n\",flat)"
   ]
  },
  {
   "cell_type": "code",
   "execution_count": null,
   "id": "71831ea7-ce6a-493d-a001-e464317fa526",
   "metadata": {},
   "outputs": [],
   "source": []
  },
  {
   "cell_type": "code",
   "execution_count": 6,
   "id": "bbbe9e55-06a3-4b32-bbcc-bfc12c35936d",
   "metadata": {},
   "outputs": [
    {
     "name": "stdout",
     "output_type": "stream",
     "text": [
      "\n",
      " Shape of array : (3, 4)\n"
     ]
    }
   ],
   "source": [
    "print(\"\\n Shape of array :\",arr.shape)"
   ]
  },
  {
   "cell_type": "code",
   "execution_count": null,
   "id": "0f7466e6-1e63-45fd-a638-44cff8fd616b",
   "metadata": {},
   "outputs": [],
   "source": []
  }
 ],
 "metadata": {
  "kernelspec": {
   "display_name": "Python 3 (ipykernel)",
   "language": "python",
   "name": "python3"
  },
  "language_info": {
   "codemirror_mode": {
    "name": "ipython",
    "version": 3
   },
   "file_extension": ".py",
   "mimetype": "text/x-python",
   "name": "python",
   "nbconvert_exporter": "python",
   "pygments_lexer": "ipython3",
   "version": "3.11.3"
  }
 },
 "nbformat": 4,
 "nbformat_minor": 5
}
